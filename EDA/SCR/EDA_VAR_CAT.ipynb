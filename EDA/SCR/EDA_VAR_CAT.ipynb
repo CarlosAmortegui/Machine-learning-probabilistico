{
 "cells": [
  {
   "cell_type": "markdown",
   "metadata": {},
   "source": [
    "<div style=\"text-align: center; padding: 10px; background-color: #1e1e1e; color: white;\">\n",
    "   <img src=\"../Input/addthis1200x630.PNG\" \n",
    "        width=\"400px\" \n",
    "        alt=\"Logo Konrad Lorenz\"\n",
    "        style=\"margin: 15px auto; display: block;\"/>\n",
    "   <h3 style=\"margin-top: 10px; color: white;\">Fundación Universitaria Konrad Lorenz </h3>\n",
    "   <hr style=\"width: 60%; margin: 10px auto; border-color: #555;\">\n",
    "   <div style=\"font-size: 14px; line-height: 1.5;\">\n",
    "       <p><b>Proyecto:</b> EDA para variables categóricas</p>\n",
    "       <p><b>Autor:</b> Carlos Daniel Amortegui Ferrer</p>\n",
    "       <p><b>Facultad:</b> Maestría & Especialización en Analítica Estratégica de Datos</p>\n",
    "       <p><b>Asignatura:</b> Machine Learning Probabilístico</p>\n",
    "       <p><b>Correo:</b> carlosd.amorteguif@konradlorenz.edu.co </p>\n",
    "       <p><b>Fecha:</b> 03/02/2025</p>\n",
    "   </div>\n",
    "   <hr style=\"width: 60%; margin: 10px auto; border-color: #555;\">\n",
    "</div>"
   ]
  },
  {
   "cell_type": "markdown",
   "metadata": {},
   "source": [
    "# Análisis Exploratorio de Datos (EDA)\n",
    "\n",
    "## La Importancia del Análisis Exploratorio\n",
    "\n",
    "Antes de adentrarnos en el modelado predictivo o realizar cálculos con un nuevo conjunto de datos, es fundamental llevar a cabo una exploración descriptiva detallada. Este proceso inicial es crucial por varias razones:\n",
    "\n",
    "1. Permite comprender en profundidad la naturaleza y estructura de los datos\n",
    "2. Ayuda a identificar posibles problemas o anomalías en el conjunto de datos\n",
    "3. Proporciona insights iniciales que pueden guiar el proceso de modelado\n",
    "\n",
    "## Problemas Comunes que el EDA Puede Detectar\n",
    "\n",
    "### Errores en el Tipo de Datos\n",
    "- Variables numéricas almacenadas como texto\n",
    "- Variables categóricas interpretadas como numéricas\n",
    "- Fechas almacenadas como texto plano\n",
    "\n",
    "### Valores Problemáticos\n",
    "- Uso de ceros o espacios en blanco para representar datos faltantes\n",
    "- Valores fuera de rango o sin sentido en el contexto\n",
    "- Inconsistencias en la codificación de variables categóricas\n",
    "\n",
    "### Anomalías en los Datos\n",
    "- Datos atípicos (outliers) que requieren investigación\n",
    "- Patrones inusuales que podrían indicar errores de entrada\n",
    "- Inconsistencias en el formato o la estructura\n",
    "\n",
    "## Beneficios Adicionales\n",
    "\n",
    "El análisis exploratorio no solo identifica problemas; también:\n",
    "- Ayuda a seleccionar variables predictoras apropiadas\n",
    "- Revela relaciones importantes entre variables\n",
    "- Guía las decisiones sobre la preparación y limpieza de datos\n",
    "- Proporciona insights iniciales sobre el comportamiento de las variables\n",
    "\n",
    "Este proceso es fundamental para garantizar la calidad y fiabilidad de cualquier análisis posterior."
   ]
  },
  {
   "cell_type": "markdown",
   "metadata": {},
   "source": [
    "# **Librerias**\n",
    "\n",
    "# Librerías en Python\n",
    "\n",
    "## Definición\n",
    "Una librería (o biblioteca) en Python es un conjunto de módulos y funciones reutilizables que podemos incorporar a nuestro código para realizar tareas específicas sin necesidad de escribir el código desde cero. Funcionan como una colección de recursos pre-escritos que extienden las funcionalidades de Python.\n",
    "\n",
    "## Características Principales\n",
    "- **Reutilización de código**: Permiten usar código ya probado y optimizado\n",
    "- **Modularidad**: Organizan el código en componentes lógicos y manejables\n",
    "- **Abstracción**: Ocultan la complejidad de las operaciones internas\n",
    "- **Mantenibilidad**: Facilitan el mantenimiento y actualización del código\n",
    "\n",
    "## Tipos de Librerías\n",
    "1. **Librerías Estándar**\n",
    "  - Vienen instaladas con Python\n",
    "  - Ejemplos: math, datetime, os\n",
    "\n",
    "2. **Librerías de Terceros**\n",
    "  - Se instalan adicionalmente\n",
    "  - Ejemplos: pandas, numpy, scikit-learn\n",
    "\n",
    "## Uso Común\n",
    "```python\n",
    "# Importación básica\n",
    "import numpy as np\n",
    "\n",
    "# Importación específica\n",
    "from pandas import DataFrame\n",
    "\n",
    "# Importación con alias\n",
    "import matplotlib.pyplot as plt"
   ]
  },
  {
   "cell_type": "code",
   "execution_count": 34,
   "metadata": {},
   "outputs": [],
   "source": [
    "# =============================================================================\n",
    "# LIBRERÍAS NECESARIAS\n",
    "# =============================================================================\n",
    "\n",
    "# Tratamiento de datos\n",
    "# -----------------------------------------------------------------------------\n",
    "import numpy as np          # Manejo de arrays y operaciones numéricas eficientes\n",
    "import pandas as pd         # Manipulación y análisis de datos estructurados\n",
    "from tabulate import tabulate   # Formateo de tablas para mejor visualización\n",
    "\n",
    "# Gráficos\n",
    "# -----------------------------------------------------------------------------\n",
    "import matplotlib.pyplot as plt         # Librería base para visualizaciones\n",
    "from matplotlib import style           # Estilos para gráficos\n",
    "import matplotlib.ticker as ticker     # Formateo de ejes en gráficos\n",
    "import seaborn as sns                 # Visualizaciones estadísticas avanzadas\n",
    "import statsmodels.api as sm          # Modelos estadísticos y econométricos\n",
    "\n",
    "# Configuración matplotlib\n",
    "# -----------------------------------------------------------------------------\n",
    "plt.rcParams['image.cmap'] = \"bwr\"    # Configura el mapa de colores predeterminado\n",
    "plt.rcParams['savefig.bbox'] = \"tight\"  # Ajusta los márgenes al guardar figuras\n",
    "style.use('ggplot') or plt.style.use('ggplot')  # Establece estilo visual ggplot\n",
    "\n",
    "# Configuración warnings\n",
    "# -----------------------------------------------------------------------------\n",
    "import warnings\n",
    "warnings.filterwarnings('ignore')  # Desactiva mensajes de advertencia"
   ]
  },
  {
   "cell_type": "markdown",
   "metadata": {},
   "source": [
    "# Conjunto de datos SaratogaHouses - Análisis de Precios de Viviendas\n",
    "\n",
    "## Descripción del Dataset\n",
    "El conjunto de datos `SaratogaHouses` es una base de datos de bienes raíces que contiene información sobre 1,728 viviendas vendidas en Saratoga County, Nueva York, durante el año 2006. Es un conjunto de datos muy interesante para análisis inmobiliario y modelado estadístico.\n",
    "\n",
    "## Variables del Dataset\n",
    "\n",
    "### 1. Variables de precio y valor\n",
    "- `price`: El precio de venta de la casa en dólares\n",
    "- `landValue`: Valor del terreno\n",
    "\n",
    "### 2. Características físicas de la propiedad\n",
    "- `lotSize`: Tamaño del terreno en acres\n",
    "- `livingArea`: Área habitable en pies cuadrados\n",
    "- `bedrooms`: Número de dormitorios\n",
    "- `bathrooms`: Número de baños (1.0 = un baño completo, 0.5 = medio baño)\n",
    "- `rooms`: Número total de habitaciones\n",
    "- `age`: Edad de la casa en años\n",
    "- `fireplaces`: Número de chimeneas\n",
    "\n",
    "### 3. Características adicionales\n",
    "- `centralAir`: Si tiene aire acondicionado central (Yes/No)\n",
    "- `waterfront`: Si la propiedad tiene vista al agua (Yes/No)\n",
    "- `newConstruction`: Si es una construcción nueva (Yes/No)\n",
    "- `fuel`: Tipo de combustible para calefacción\n",
    "- `heating`: Sistema de calefacción\n",
    "- `sewer`: Tipo de sistema de alcantarillado\n",
    "- `pctCollege`: Porcentaje de universitarios en el vecindario\n",
    "\n",
    "## Tipos de Variables\n",
    "1. **Variables Numéricas Continuas**: price, lotSize, livingArea, landValue, pctCollege\n",
    "2. **Variables Numéricas Discretas**: bedrooms, bathrooms, rooms, age, fireplaces\n",
    "3. **Variables Categóricas**: centralAir, waterfront, newConstruction, fuel, heating, sewer\n",
    "\n",
    "## Aplicaciones del Dataset\n",
    "Este conjunto de datos es comúnmente utilizado en:\n",
    "- Análisis de regresión para predecir precios de viviendas\n",
    "- Estudios de mercado inmobiliario\n",
    "- Enseñanza de estadística y ciencia de datos\n",
    "- Desarrollo de modelos de valoración de propiedades"
   ]
  },
  {
   "cell_type": "markdown",
   "metadata": {},
   "source": [
    "# ***Lectura de Datos***\n"
   ]
  },
  {
   "cell_type": "code",
   "execution_count": 35,
   "metadata": {},
   "outputs": [
    {
     "name": "stdout",
     "output_type": "stream",
     "text": [
      "Directorio actual: c:\\Users\\charl\\OneDrive\\Documentos\\Analítica Estratégica de Datos en la Konrad\\Machine Learning Probabilistico\\Desarrollos ML\\EDA\\SCR\n"
     ]
    }
   ],
   "source": [
    "import os\n",
    "print(\"Directorio actual:\", os.getcwd())"
   ]
  },
  {
   "cell_type": "code",
   "execution_count": 3,
   "metadata": {},
   "outputs": [],
   "source": [
    "# ---------------- Moverse entre carpetas ------------------------------------ #\n",
    "# # Importar librería necesaria\n",
    "# import os\n",
    "\n",
    "# # 1. Ver directorio actual\n",
    "# print(\"Directorio actual:\", os.getcwd())\n",
    "\n",
    "# # 2. Cambiar directorio (diferentes formas)\n",
    "# # Forma absoluta (específica toda la ruta)\n",
    "# os.chdir(\"C:/Users/tu_usuario/Documents/tu_carpeta\")\n",
    "\n",
    "# # Forma relativa (relativa a donde estás)\n",
    "# os.chdir(\"../\")  # Subir un nivel\n",
    "# os.chdir(\"./subcarpeta\")  # Entrar a una subcarpeta\n",
    "\n",
    "# # 3. Listar contenido del directorio\n",
    "# print(\"\\nContenido del directorio:\")\n",
    "# print(os.listdir())\n"
   ]
  },
  {
   "cell_type": "code",
   "execution_count": 37,
   "metadata": {},
   "outputs": [],
   "source": [
    "# # ===================================================== Lectura Con csv ==========================================================\n",
    "\n",
    "# datos = pd.read_csv(\"C:/Users/charl/OneDrive/Documentos/Analítica Estratégica de Datos en la Konrad/Machine Learning Probabilistico/Desarrollos ML/EDA/Input/saratoga_houses.csv\", sep=\",\")\n",
    "# datos.head()\n",
    "\n",
    "# ===================================================== Lectura Con Excel ==========================================================\n",
    "\n",
    "#datos = pd.read_excel(\"C:/Users/charl/OneDrive/Documentos/Analítica Estratégica de Datos en la Konrad/Machine Learning Probabilistico/Desarrollos ML/EDA/Input/saratoga_houses.xlsx\")\n",
    "#datos.head()\n",
    "\n",
    "\n",
    "# ===================================================== Lectura desde Githud ==========================================================\n",
    "url = (\n",
    "     \"https://raw.githubusercontent.com/JoaquinAmatRodrigo/Estadistica-machine-learning-python/\"\n",
    "     \"master/data/SaratogaHouses.csv\"\n",
    "     )\n",
    "datos = pd.read_csv(url, sep=\",\")\n"
   ]
  },
  {
   "cell_type": "code",
   "execution_count": 42,
   "metadata": {},
   "outputs": [
    {
     "data": {
      "text/html": [
       "<div>\n",
       "<style scoped>\n",
       "    .dataframe tbody tr th:only-of-type {\n",
       "        vertical-align: middle;\n",
       "    }\n",
       "\n",
       "    .dataframe tbody tr th {\n",
       "        vertical-align: top;\n",
       "    }\n",
       "\n",
       "    .dataframe thead th {\n",
       "        text-align: right;\n",
       "    }\n",
       "</style>\n",
       "<table border=\"1\" class=\"dataframe\">\n",
       "  <thead>\n",
       "    <tr style=\"text-align: right;\">\n",
       "      <th></th>\n",
       "      <th>price</th>\n",
       "      <th>lotSize</th>\n",
       "      <th>age</th>\n",
       "      <th>landValue</th>\n",
       "      <th>livingArea</th>\n",
       "      <th>pctCollege</th>\n",
       "      <th>bedrooms</th>\n",
       "      <th>fireplaces</th>\n",
       "      <th>bathrooms</th>\n",
       "      <th>rooms</th>\n",
       "      <th>heating</th>\n",
       "      <th>fuel</th>\n",
       "      <th>sewer</th>\n",
       "      <th>waterfront</th>\n",
       "      <th>newConstruction</th>\n",
       "      <th>centralAir</th>\n",
       "    </tr>\n",
       "  </thead>\n",
       "  <tbody>\n",
       "    <tr>\n",
       "      <th>1708</th>\n",
       "      <td>229900</td>\n",
       "      <td>0.37</td>\n",
       "      <td>26</td>\n",
       "      <td>23800</td>\n",
       "      <td>1966</td>\n",
       "      <td>61</td>\n",
       "      <td>3</td>\n",
       "      <td>0</td>\n",
       "      <td>1.5</td>\n",
       "      <td>7</td>\n",
       "      <td>hot water/steam</td>\n",
       "      <td>gas</td>\n",
       "      <td>public/commercial</td>\n",
       "      <td>No</td>\n",
       "      <td>No</td>\n",
       "      <td>No</td>\n",
       "    </tr>\n",
       "    <tr>\n",
       "      <th>1709</th>\n",
       "      <td>230000</td>\n",
       "      <td>0.54</td>\n",
       "      <td>39</td>\n",
       "      <td>34700</td>\n",
       "      <td>2112</td>\n",
       "      <td>61</td>\n",
       "      <td>4</td>\n",
       "      <td>1</td>\n",
       "      <td>1.5</td>\n",
       "      <td>9</td>\n",
       "      <td>hot air</td>\n",
       "      <td>gas</td>\n",
       "      <td>public/commercial</td>\n",
       "      <td>No</td>\n",
       "      <td>No</td>\n",
       "      <td>No</td>\n",
       "    </tr>\n",
       "    <tr>\n",
       "      <th>1710</th>\n",
       "      <td>388000</td>\n",
       "      <td>0.77</td>\n",
       "      <td>9</td>\n",
       "      <td>74400</td>\n",
       "      <td>2762</td>\n",
       "      <td>61</td>\n",
       "      <td>4</td>\n",
       "      <td>1</td>\n",
       "      <td>2.5</td>\n",
       "      <td>12</td>\n",
       "      <td>hot air</td>\n",
       "      <td>gas</td>\n",
       "      <td>public/commercial</td>\n",
       "      <td>No</td>\n",
       "      <td>No</td>\n",
       "      <td>No</td>\n",
       "    </tr>\n",
       "    <tr>\n",
       "      <th>1711</th>\n",
       "      <td>350000</td>\n",
       "      <td>0.66</td>\n",
       "      <td>23</td>\n",
       "      <td>72200</td>\n",
       "      <td>2184</td>\n",
       "      <td>61</td>\n",
       "      <td>3</td>\n",
       "      <td>1</td>\n",
       "      <td>2.5</td>\n",
       "      <td>9</td>\n",
       "      <td>hot air</td>\n",
       "      <td>gas</td>\n",
       "      <td>public/commercial</td>\n",
       "      <td>No</td>\n",
       "      <td>No</td>\n",
       "      <td>Yes</td>\n",
       "    </tr>\n",
       "    <tr>\n",
       "      <th>1712</th>\n",
       "      <td>169700</td>\n",
       "      <td>0.07</td>\n",
       "      <td>22</td>\n",
       "      <td>16800</td>\n",
       "      <td>1480</td>\n",
       "      <td>61</td>\n",
       "      <td>3</td>\n",
       "      <td>0</td>\n",
       "      <td>1.5</td>\n",
       "      <td>7</td>\n",
       "      <td>electric</td>\n",
       "      <td>electric</td>\n",
       "      <td>public/commercial</td>\n",
       "      <td>No</td>\n",
       "      <td>No</td>\n",
       "      <td>No</td>\n",
       "    </tr>\n",
       "  </tbody>\n",
       "</table>\n",
       "</div>"
      ],
      "text/plain": [
       "       price  lotSize  age  landValue  livingArea  pctCollege  bedrooms  \\\n",
       "1708  229900     0.37   26      23800        1966          61         3   \n",
       "1709  230000     0.54   39      34700        2112          61         4   \n",
       "1710  388000     0.77    9      74400        2762          61         4   \n",
       "1711  350000     0.66   23      72200        2184          61         3   \n",
       "1712  169700     0.07   22      16800        1480          61         3   \n",
       "\n",
       "      fireplaces  bathrooms  rooms          heating      fuel  \\\n",
       "1708           0        1.5      7  hot water/steam       gas   \n",
       "1709           1        1.5      9          hot air       gas   \n",
       "1710           1        2.5     12          hot air       gas   \n",
       "1711           1        2.5      9          hot air       gas   \n",
       "1712           0        1.5      7         electric  electric   \n",
       "\n",
       "                  sewer waterfront newConstruction centralAir  \n",
       "1708  public/commercial         No              No         No  \n",
       "1709  public/commercial         No              No         No  \n",
       "1710  public/commercial         No              No         No  \n",
       "1711  public/commercial         No              No        Yes  \n",
       "1712  public/commercial         No              No         No  "
      ]
     },
     "execution_count": 42,
     "metadata": {},
     "output_type": "execute_result"
    }
   ],
   "source": [
    "datos.tail(20).head()"
   ]
  },
  {
   "cell_type": "markdown",
   "metadata": {},
   "source": [
    "# Interpretación de Baños en Datos Inmobiliarios\n",
    "\n",
    "## Explicación de Valores Decimales en Baños\n",
    "\n",
    "En el conjunto de datos `SaratogaHouses`, la columna `bathrooms` utiliza una notación decimal que tiene un significado específico en el mercado inmobiliario:\n",
    "\n",
    "### Significado de los Valores\n",
    "- **Número Entero**: Representa los baños completos\n",
    " - Incluye: inodoro, lavabo y ducha/bañera\n",
    " \n",
    "- **Decimal (.5)**: Representa un medio baño o aseo\n",
    " - Incluye: típicamente solo inodoro y lavabo\n",
    " - No incluye: ducha/bañera\n",
    "\n",
    "### Ejemplos\n",
    "| Valor | Significado |\n",
    "|-------|-------------|\n",
    "| 2.5 | 2 baños completos + 1 medio baño |\n",
    "| 1.5 | 1 baño completo + 1 medio baño |\n",
    "| 1.0 | 1 baño completo solamente |\n",
    "\n",
    "### Nota Importante\n",
    "Esta notación es un estándar en el mercado inmobiliario y ayuda a describir de manera precisa la configuración de baños en una propiedad. Los medios baños son particularmente útiles en:\n",
    "- Áreas comunes\n",
    "- Plantas bajas\n",
    "- Zonas de recepción para visitas\n",
    "\n",
    "Mientras que los baños completos suelen ubicarse cerca de las áreas de dormitorios."
   ]
  },
  {
   "cell_type": "code",
   "execution_count": 46,
   "metadata": {},
   "outputs": [
    {
     "data": {
      "text/plain": [
       "Index(['price', 'lotSize', 'age', 'landValue', 'livingArea', 'pctCollege',\n",
       "       'bedrooms', 'fireplaces', 'bathrooms', 'rooms', 'heating', 'fuel',\n",
       "       'sewer', 'waterfront', 'newConstruction', 'centralAir'],\n",
       "      dtype='object')"
      ]
     },
     "execution_count": 46,
     "metadata": {},
     "output_type": "execute_result"
    }
   ],
   "source": [
    "datos.columns"
   ]
  },
  {
   "cell_type": "code",
   "execution_count": null,
   "metadata": {},
   "outputs": [],
   "source": []
  },
  {
   "cell_type": "code",
   "execution_count": 47,
   "metadata": {},
   "outputs": [],
   "source": [
    "# Renombrar variables\n",
    "datos.columns = [\"precio\", \"metros_totales\", \"antiguedad\", \"precio_terreno\", \"metros_habitables\",\n",
    "                 \"universitarios\", \"dormitorios\", \"chimenea\", \"banyos\", \"habitaciones\",\n",
    "                 \"calefaccion\",\"consumo_calefacion\", \"desague\", \"vistas_lago\", \"nueva_construccion\",\n",
    "                 \"aire_acondicionado\"]"
   ]
  },
  {
   "cell_type": "code",
   "execution_count": 48,
   "metadata": {},
   "outputs": [
    {
     "data": {
      "text/plain": [
       "Index(['precio', 'metros_totales', 'antiguedad', 'precio_terreno',\n",
       "       'metros_habitables', 'universitarios', 'dormitorios', 'chimenea',\n",
       "       'banyos', 'habitaciones', 'calefaccion', 'consumo_calefacion',\n",
       "       'desague', 'vistas_lago', 'nueva_construccion', 'aire_acondicionado'],\n",
       "      dtype='object')"
      ]
     },
     "execution_count": 48,
     "metadata": {},
     "output_type": "execute_result"
    }
   ],
   "source": [
    "datos.columns"
   ]
  },
  {
   "cell_type": "code",
   "execution_count": 49,
   "metadata": {},
   "outputs": [
    {
     "data": {
      "text/html": [
       "<div>\n",
       "<style scoped>\n",
       "    .dataframe tbody tr th:only-of-type {\n",
       "        vertical-align: middle;\n",
       "    }\n",
       "\n",
       "    .dataframe tbody tr th {\n",
       "        vertical-align: top;\n",
       "    }\n",
       "\n",
       "    .dataframe thead th {\n",
       "        text-align: right;\n",
       "    }\n",
       "</style>\n",
       "<table border=\"1\" class=\"dataframe\">\n",
       "  <thead>\n",
       "    <tr style=\"text-align: right;\">\n",
       "      <th></th>\n",
       "      <th>precio</th>\n",
       "      <th>metros_totales</th>\n",
       "      <th>antiguedad</th>\n",
       "      <th>precio_terreno</th>\n",
       "      <th>metros_habitables</th>\n",
       "      <th>universitarios</th>\n",
       "      <th>dormitorios</th>\n",
       "      <th>chimenea</th>\n",
       "      <th>banyos</th>\n",
       "      <th>habitaciones</th>\n",
       "      <th>calefaccion</th>\n",
       "      <th>consumo_calefacion</th>\n",
       "      <th>desague</th>\n",
       "      <th>vistas_lago</th>\n",
       "      <th>nueva_construccion</th>\n",
       "      <th>aire_acondicionado</th>\n",
       "    </tr>\n",
       "  </thead>\n",
       "  <tbody>\n",
       "    <tr>\n",
       "      <th>0</th>\n",
       "      <td>132500</td>\n",
       "      <td>0.09</td>\n",
       "      <td>42</td>\n",
       "      <td>50000</td>\n",
       "      <td>906</td>\n",
       "      <td>35</td>\n",
       "      <td>2</td>\n",
       "      <td>1</td>\n",
       "      <td>1.0</td>\n",
       "      <td>5</td>\n",
       "      <td>electric</td>\n",
       "      <td>electric</td>\n",
       "      <td>septic</td>\n",
       "      <td>No</td>\n",
       "      <td>No</td>\n",
       "      <td>No</td>\n",
       "    </tr>\n",
       "    <tr>\n",
       "      <th>1</th>\n",
       "      <td>181115</td>\n",
       "      <td>0.92</td>\n",
       "      <td>0</td>\n",
       "      <td>22300</td>\n",
       "      <td>1953</td>\n",
       "      <td>51</td>\n",
       "      <td>3</td>\n",
       "      <td>0</td>\n",
       "      <td>2.5</td>\n",
       "      <td>6</td>\n",
       "      <td>hot water/steam</td>\n",
       "      <td>gas</td>\n",
       "      <td>septic</td>\n",
       "      <td>No</td>\n",
       "      <td>No</td>\n",
       "      <td>No</td>\n",
       "    </tr>\n",
       "    <tr>\n",
       "      <th>2</th>\n",
       "      <td>109000</td>\n",
       "      <td>0.19</td>\n",
       "      <td>133</td>\n",
       "      <td>7300</td>\n",
       "      <td>1944</td>\n",
       "      <td>51</td>\n",
       "      <td>4</td>\n",
       "      <td>1</td>\n",
       "      <td>1.0</td>\n",
       "      <td>8</td>\n",
       "      <td>hot water/steam</td>\n",
       "      <td>gas</td>\n",
       "      <td>public/commercial</td>\n",
       "      <td>No</td>\n",
       "      <td>No</td>\n",
       "      <td>No</td>\n",
       "    </tr>\n",
       "    <tr>\n",
       "      <th>3</th>\n",
       "      <td>155000</td>\n",
       "      <td>0.41</td>\n",
       "      <td>13</td>\n",
       "      <td>18700</td>\n",
       "      <td>1944</td>\n",
       "      <td>51</td>\n",
       "      <td>3</td>\n",
       "      <td>1</td>\n",
       "      <td>1.5</td>\n",
       "      <td>5</td>\n",
       "      <td>hot air</td>\n",
       "      <td>gas</td>\n",
       "      <td>septic</td>\n",
       "      <td>No</td>\n",
       "      <td>No</td>\n",
       "      <td>No</td>\n",
       "    </tr>\n",
       "    <tr>\n",
       "      <th>4</th>\n",
       "      <td>86060</td>\n",
       "      <td>0.11</td>\n",
       "      <td>0</td>\n",
       "      <td>15000</td>\n",
       "      <td>840</td>\n",
       "      <td>51</td>\n",
       "      <td>2</td>\n",
       "      <td>0</td>\n",
       "      <td>1.0</td>\n",
       "      <td>3</td>\n",
       "      <td>hot air</td>\n",
       "      <td>gas</td>\n",
       "      <td>public/commercial</td>\n",
       "      <td>No</td>\n",
       "      <td>Yes</td>\n",
       "      <td>Yes</td>\n",
       "    </tr>\n",
       "  </tbody>\n",
       "</table>\n",
       "</div>"
      ],
      "text/plain": [
       "   precio  metros_totales  antiguedad  precio_terreno  metros_habitables  \\\n",
       "0  132500            0.09          42           50000                906   \n",
       "1  181115            0.92           0           22300               1953   \n",
       "2  109000            0.19         133            7300               1944   \n",
       "3  155000            0.41          13           18700               1944   \n",
       "4   86060            0.11           0           15000                840   \n",
       "\n",
       "   universitarios  dormitorios  chimenea  banyos  habitaciones  \\\n",
       "0              35            2         1     1.0             5   \n",
       "1              51            3         0     2.5             6   \n",
       "2              51            4         1     1.0             8   \n",
       "3              51            3         1     1.5             5   \n",
       "4              51            2         0     1.0             3   \n",
       "\n",
       "       calefaccion consumo_calefacion            desague vistas_lago  \\\n",
       "0         electric           electric             septic          No   \n",
       "1  hot water/steam                gas             septic          No   \n",
       "2  hot water/steam                gas  public/commercial          No   \n",
       "3          hot air                gas             septic          No   \n",
       "4          hot air                gas  public/commercial          No   \n",
       "\n",
       "  nueva_construccion aire_acondicionado  \n",
       "0                 No                 No  \n",
       "1                 No                 No  \n",
       "2                 No                 No  \n",
       "3                 No                 No  \n",
       "4                Yes                Yes  "
      ]
     },
     "execution_count": 49,
     "metadata": {},
     "output_type": "execute_result"
    }
   ],
   "source": [
    "datos.head()"
   ]
  },
  {
   "cell_type": "code",
   "execution_count": 50,
   "metadata": {},
   "outputs": [
    {
     "data": {
      "text/plain": [
       "(1728, 16)"
      ]
     },
     "execution_count": 50,
     "metadata": {},
     "output_type": "execute_result"
    }
   ],
   "source": [
    "datos.shape # VAlidar dimensiones de la tabla"
   ]
  },
  {
   "cell_type": "markdown",
   "metadata": {},
   "source": [
    "# ***Tipos de Columnas en Python para Análisis de Datos***\n",
    "\n",
    "## Tipos Numéricos\n",
    "- **int64**: Números enteros (1, 2, 3, -1, -100)\n",
    "- **float64**: Números decimales (1.5, -2.3, 3.14)\n",
    "- **complex**: Números complejos (1 + 2j)\n",
    "\n",
    "## Tipos Categóricos\n",
    "- **object**: Texto/strings ('casa', 'auto', 'perro')\n",
    "- **category**: Categorías con valores limitados (útil para optimizar memoria)\n",
    "- **bool**: Valores booleanos (True/False)\n",
    "\n",
    "## Tipos Temporales\n",
    "- **datetime64**: Fechas y tiempos ('2024-02-03', '2024-02-03 15:30:00')\n",
    "- **timedelta64**: Diferencias entre fechas\n",
    "\n",
    "## Verificación de Tipos en Pandas\n",
    "```python\n",
    "# Ver tipos de todas las columnas\n",
    "df.dtypes\n",
    "\n",
    "# Ver información detallada del DataFrame\n",
    "df.info()"
   ]
  },
  {
   "cell_type": "code",
   "execution_count": 51,
   "metadata": {},
   "outputs": [
    {
     "data": {
      "text/plain": [
       "precio                  int64\n",
       "metros_totales        float64\n",
       "antiguedad              int64\n",
       "precio_terreno          int64\n",
       "metros_habitables       int64\n",
       "universitarios          int64\n",
       "dormitorios             int64\n",
       "chimenea                int64\n",
       "banyos                float64\n",
       "habitaciones            int64\n",
       "calefaccion            object\n",
       "consumo_calefacion     object\n",
       "desague                object\n",
       "vistas_lago            object\n",
       "nueva_construccion     object\n",
       "aire_acondicionado     object\n",
       "dtype: object"
      ]
     },
     "execution_count": 51,
     "metadata": {},
     "output_type": "execute_result"
    }
   ],
   "source": [
    "# Tipo de cada columna\n",
    "# ==============================================================================\n",
    "# En pandas, el tipo \"object\" hace referencia a strings\n",
    "datos.dtypes\n"
   ]
  },
  {
   "cell_type": "code",
   "execution_count": 52,
   "metadata": {},
   "outputs": [
    {
     "name": "stdout",
     "output_type": "stream",
     "text": [
      "<class 'pandas.core.frame.DataFrame'>\n",
      "RangeIndex: 1728 entries, 0 to 1727\n",
      "Data columns (total 16 columns):\n",
      " #   Column              Non-Null Count  Dtype  \n",
      "---  ------              --------------  -----  \n",
      " 0   precio              1728 non-null   int64  \n",
      " 1   metros_totales      1728 non-null   float64\n",
      " 2   antiguedad          1728 non-null   int64  \n",
      " 3   precio_terreno      1728 non-null   int64  \n",
      " 4   metros_habitables   1728 non-null   int64  \n",
      " 5   universitarios      1728 non-null   int64  \n",
      " 6   dormitorios         1728 non-null   int64  \n",
      " 7   chimenea            1728 non-null   int64  \n",
      " 8   banyos              1728 non-null   float64\n",
      " 9   habitaciones        1728 non-null   int64  \n",
      " 10  calefaccion         1728 non-null   object \n",
      " 11  consumo_calefacion  1728 non-null   object \n",
      " 12  desague             1728 non-null   object \n",
      " 13  vistas_lago         1728 non-null   object \n",
      " 14  nueva_construccion  1728 non-null   object \n",
      " 15  aire_acondicionado  1728 non-null   object \n",
      "dtypes: float64(2), int64(8), object(6)\n",
      "memory usage: 216.1+ KB\n"
     ]
    }
   ],
   "source": [
    "datos.info()"
   ]
  },
  {
   "cell_type": "markdown",
   "metadata": {},
   "source": [
    "# Como cambiar a un formato adecuado ? \n",
    "\n",
    "```python\n",
    "# --------------------- Conversiones Comunes -----------------------------------------\n",
    "\n",
    "# String a numérico\n",
    "df['columna'] = pd.to_numeric(df['columna'])\n",
    "\n",
    "# String a datetime\n",
    "df['fecha'] = pd.to_datetime(df['fecha'])\n",
    "\n",
    "# Objeto a categoría\n",
    "df['categoria'] = df['categoria'].astype('category')\n",
    "\n",
    "\n",
    "# -------------------- Conversiones Categóricas ----------------------------\n",
    "# Objeto a categoría\n",
    "df['categoria'] = df['categoria'].astype('category')\n",
    "\n",
    "# Numérico a categoría\n",
    "df['categoria'] = pd.Categorical(df['categoria'])\n",
    "\n",
    "# Crear categorías ordenadas\n",
    "df['nivel'] = pd.Categorical(df['nivel'], \n",
    "                           categories=['Bajo', 'Medio', 'Alto'],\n",
    "                           ordered=True)\n",
    "\n",
    "# --------------------- Conversiones Booleanas -----------------------------\n",
    "\n",
    "# String a booleano\n",
    "df['bool_col'] = df['columna'].map({'Yes': True, 'No': False})\n",
    "\n",
    "# Numérico a booleano\n",
    "df['bool_col'] = df['columna'] > 0\n",
    "\n",
    "# Múltiples valores a booleano\n",
    "df['bool_col'] = df['columna'].isin(['A', 'B', 'C'])"
   ]
  },
  {
   "cell_type": "markdown",
   "metadata": {},
   "source": [
    "# **Valores ausentes** "
   ]
  },
  {
   "cell_type": "code",
   "execution_count": null,
   "metadata": {},
   "outputs": [],
   "source": [
    "# Número de datos ausentes por variable\n",
    "# ==============================================================================\n",
    "datos.isna().sum().sort_values()"
   ]
  },
  {
   "cell_type": "code",
   "execution_count": 56,
   "metadata": {},
   "outputs": [
    {
     "data": {
      "text/plain": [
       "precio                0\n",
       "metros_totales        0\n",
       "antiguedad            0\n",
       "precio_terreno        0\n",
       "metros_habitables     0\n",
       "universitarios        0\n",
       "dormitorios           0\n",
       "chimenea              0\n",
       "banyos                0\n",
       "habitaciones          0\n",
       "calefaccion           0\n",
       "consumo_calefacion    0\n",
       "desague               0\n",
       "vistas_lago           0\n",
       "nueva_construccion    0\n",
       "aire_acondicionado    0\n",
       "dtype: int64"
      ]
     },
     "execution_count": 56,
     "metadata": {},
     "output_type": "execute_result"
    }
   ],
   "source": [
    "datos.isna().sum().sort_values()"
   ]
  },
  {
   "cell_type": "markdown",
   "metadata": {},
   "source": [
    "# ***Selccionar solo las Variables Cualitativas***"
   ]
  },
  {
   "cell_type": "code",
   "execution_count": 58,
   "metadata": {},
   "outputs": [
    {
     "data": {
      "text/html": [
       "<div>\n",
       "<style scoped>\n",
       "    .dataframe tbody tr th:only-of-type {\n",
       "        vertical-align: middle;\n",
       "    }\n",
       "\n",
       "    .dataframe tbody tr th {\n",
       "        vertical-align: top;\n",
       "    }\n",
       "\n",
       "    .dataframe thead th {\n",
       "        text-align: right;\n",
       "    }\n",
       "</style>\n",
       "<table border=\"1\" class=\"dataframe\">\n",
       "  <thead>\n",
       "    <tr style=\"text-align: right;\">\n",
       "      <th></th>\n",
       "      <th>calefaccion</th>\n",
       "      <th>consumo_calefacion</th>\n",
       "      <th>desague</th>\n",
       "      <th>vistas_lago</th>\n",
       "      <th>nueva_construccion</th>\n",
       "      <th>aire_acondicionado</th>\n",
       "    </tr>\n",
       "  </thead>\n",
       "  <tbody>\n",
       "    <tr>\n",
       "      <th>count</th>\n",
       "      <td>1728</td>\n",
       "      <td>1728</td>\n",
       "      <td>1728</td>\n",
       "      <td>1728</td>\n",
       "      <td>1728</td>\n",
       "      <td>1728</td>\n",
       "    </tr>\n",
       "    <tr>\n",
       "      <th>unique</th>\n",
       "      <td>3</td>\n",
       "      <td>3</td>\n",
       "      <td>3</td>\n",
       "      <td>2</td>\n",
       "      <td>2</td>\n",
       "      <td>2</td>\n",
       "    </tr>\n",
       "    <tr>\n",
       "      <th>top</th>\n",
       "      <td>hot air</td>\n",
       "      <td>gas</td>\n",
       "      <td>public/commercial</td>\n",
       "      <td>No</td>\n",
       "      <td>No</td>\n",
       "      <td>No</td>\n",
       "    </tr>\n",
       "    <tr>\n",
       "      <th>freq</th>\n",
       "      <td>1121</td>\n",
       "      <td>1197</td>\n",
       "      <td>1213</td>\n",
       "      <td>1713</td>\n",
       "      <td>1647</td>\n",
       "      <td>1093</td>\n",
       "    </tr>\n",
       "  </tbody>\n",
       "</table>\n",
       "</div>"
      ],
      "text/plain": [
       "       calefaccion consumo_calefacion            desague vistas_lago  \\\n",
       "count         1728               1728               1728        1728   \n",
       "unique           3                  3                  3           2   \n",
       "top        hot air                gas  public/commercial          No   \n",
       "freq          1121               1197               1213        1713   \n",
       "\n",
       "       nueva_construccion aire_acondicionado  \n",
       "count                1728               1728  \n",
       "unique                  2                  2  \n",
       "top                    No                 No  \n",
       "freq                 1647               1093  "
      ]
     },
     "execution_count": 58,
     "metadata": {},
     "output_type": "execute_result"
    }
   ],
   "source": [
    "datos.select_dtypes(include=['object']).describe()"
   ]
  },
  {
   "cell_type": "code",
   "execution_count": null,
   "metadata": {},
   "outputs": [],
   "source": [
    "# Variables cualitativas (tipo object)\n",
    "# ==============================================================================\n",
    "datos.select_dtypes(include=['object']).describe()"
   ]
  },
  {
   "cell_type": "code",
   "execution_count": 59,
   "metadata": {},
   "outputs": [
    {
     "data": {
      "text/html": [
       "<div>\n",
       "<style scoped>\n",
       "    .dataframe tbody tr th:only-of-type {\n",
       "        vertical-align: middle;\n",
       "    }\n",
       "\n",
       "    .dataframe tbody tr th {\n",
       "        vertical-align: top;\n",
       "    }\n",
       "\n",
       "    .dataframe thead th {\n",
       "        text-align: right;\n",
       "    }\n",
       "</style>\n",
       "<table border=\"1\" class=\"dataframe\">\n",
       "  <thead>\n",
       "    <tr style=\"text-align: right;\">\n",
       "      <th></th>\n",
       "      <th>calefaccion</th>\n",
       "      <th>consumo_calefacion</th>\n",
       "      <th>desague</th>\n",
       "      <th>vistas_lago</th>\n",
       "      <th>nueva_construccion</th>\n",
       "      <th>aire_acondicionado</th>\n",
       "    </tr>\n",
       "  </thead>\n",
       "  <tbody>\n",
       "    <tr>\n",
       "      <th>0</th>\n",
       "      <td>electric</td>\n",
       "      <td>electric</td>\n",
       "      <td>septic</td>\n",
       "      <td>No</td>\n",
       "      <td>No</td>\n",
       "      <td>No</td>\n",
       "    </tr>\n",
       "    <tr>\n",
       "      <th>1</th>\n",
       "      <td>hot water/steam</td>\n",
       "      <td>gas</td>\n",
       "      <td>septic</td>\n",
       "      <td>No</td>\n",
       "      <td>No</td>\n",
       "      <td>No</td>\n",
       "    </tr>\n",
       "    <tr>\n",
       "      <th>2</th>\n",
       "      <td>hot water/steam</td>\n",
       "      <td>gas</td>\n",
       "      <td>public/commercial</td>\n",
       "      <td>No</td>\n",
       "      <td>No</td>\n",
       "      <td>No</td>\n",
       "    </tr>\n",
       "    <tr>\n",
       "      <th>3</th>\n",
       "      <td>hot air</td>\n",
       "      <td>gas</td>\n",
       "      <td>septic</td>\n",
       "      <td>No</td>\n",
       "      <td>No</td>\n",
       "      <td>No</td>\n",
       "    </tr>\n",
       "    <tr>\n",
       "      <th>4</th>\n",
       "      <td>hot air</td>\n",
       "      <td>gas</td>\n",
       "      <td>public/commercial</td>\n",
       "      <td>No</td>\n",
       "      <td>Yes</td>\n",
       "      <td>Yes</td>\n",
       "    </tr>\n",
       "  </tbody>\n",
       "</table>\n",
       "</div>"
      ],
      "text/plain": [
       "       calefaccion consumo_calefacion            desague vistas_lago  \\\n",
       "0         electric           electric             septic          No   \n",
       "1  hot water/steam                gas             septic          No   \n",
       "2  hot water/steam                gas  public/commercial          No   \n",
       "3          hot air                gas             septic          No   \n",
       "4          hot air                gas  public/commercial          No   \n",
       "\n",
       "  nueva_construccion aire_acondicionado  \n",
       "0                 No                 No  \n",
       "1                 No                 No  \n",
       "2                 No                 No  \n",
       "3                 No                 No  \n",
       "4                Yes                Yes  "
      ]
     },
     "execution_count": 59,
     "metadata": {},
     "output_type": "execute_result"
    }
   ],
   "source": [
    "datos_CAT = datos.select_dtypes(include=['object'])\n",
    "datos_CAT.head()"
   ]
  },
  {
   "cell_type": "markdown",
   "metadata": {},
   "source": [
    "# ***Tablas De frecuencias***"
   ]
  },
  {
   "cell_type": "code",
   "execution_count": 66,
   "metadata": {},
   "outputs": [
    {
     "data": {
      "text/plain": [
       "aire_acondicionado\n",
       "No     63.0\n",
       "Yes    37.0\n",
       "Name: proportion, dtype: float64"
      ]
     },
     "execution_count": 66,
     "metadata": {},
     "output_type": "execute_result"
    }
   ],
   "source": [
    "datos_CAT[\"aire_acondicionado\"].value_counts(normalize=True).round(2) *100"
   ]
  },
  {
   "cell_type": "code",
   "execution_count": 68,
   "metadata": {},
   "outputs": [
    {
     "name": "stdout",
     "output_type": "stream",
     "text": [
      "calefaccion\n",
      "hot air            1121\n",
      "electric            305\n",
      "hot water/steam     302\n",
      "Name: count, dtype: int64\n",
      "calefaccion\n",
      "hot air            65.0\n",
      "electric           18.0\n",
      "hot water/steam    17.0\n",
      "Name: proportion, dtype: float64\n"
     ]
    }
   ],
   "source": [
    "print(datos_CAT['calefaccion'].value_counts())\n",
    "print(datos_CAT['calefaccion'].value_counts(normalize=True).round(2) *100)"
   ]
  },
  {
   "cell_type": "code",
   "execution_count": null,
   "metadata": {},
   "outputs": [],
   "source": [
    "print(datos_CAT['calefaccion'].value_counts())\n",
    "\n",
    "print(datos_CAT['calefaccion'].value_counts(normalize=True).round(2) *100)"
   ]
  },
  {
   "cell_type": "code",
   "execution_count": 69,
   "metadata": {},
   "outputs": [
    {
     "name": "stdout",
     "output_type": "stream",
     "text": [
      "calefaccion\n",
      "hot air            1121\n",
      "electric            305\n",
      "hot water/steam     302\n",
      "Name: count, dtype: int64\n",
      "consumo_calefacion\n",
      "gas         1197\n",
      "electric     315\n",
      "oil          216\n",
      "Name: count, dtype: int64\n",
      "desague\n",
      "public/commercial    1213\n",
      "septic                503\n",
      "none                   12\n",
      "Name: count, dtype: int64\n",
      "vistas_lago\n",
      "No     1713\n",
      "Yes      15\n",
      "Name: count, dtype: int64\n",
      "nueva_construccion\n",
      "No     1647\n",
      "Yes      81\n",
      "Name: count, dtype: int64\n",
      "aire_acondicionado\n",
      "No     1093\n",
      "Yes     635\n",
      "Name: count, dtype: int64\n"
     ]
    }
   ],
   "source": [
    "print(datos_CAT['calefaccion'].value_counts())\n",
    "print(datos_CAT['consumo_calefacion'].value_counts())\n",
    "print(datos_CAT['desague'].value_counts())\n",
    "print(datos_CAT['vistas_lago'].value_counts())\n",
    "print(datos_CAT['nueva_construccion'].value_counts())\n",
    "print(datos_CAT['aire_acondicionado'].value_counts())"
   ]
  },
  {
   "cell_type": "code",
   "execution_count": 70,
   "metadata": {},
   "outputs": [
    {
     "name": "stdout",
     "output_type": "stream",
     "text": [
      "calefaccion\n",
      "hot air            0.648727\n",
      "electric           0.176505\n",
      "hot water/steam    0.174769\n",
      "Name: proportion, dtype: float64\n",
      "consumo_calefacion\n",
      "gas         0.692708\n",
      "electric    0.182292\n",
      "oil         0.125000\n",
      "Name: proportion, dtype: float64\n",
      "desague\n",
      "public/commercial    0.701968\n",
      "septic               0.291088\n",
      "none                 0.006944\n",
      "Name: proportion, dtype: float64\n",
      "vistas_lago\n",
      "No     0.991319\n",
      "Yes    0.008681\n",
      "Name: proportion, dtype: float64\n",
      "nueva_construccion\n",
      "No     0.953125\n",
      "Yes    0.046875\n",
      "Name: proportion, dtype: float64\n",
      "aire_acondicionado\n",
      "No     0.632523\n",
      "Yes    0.367477\n",
      "Name: proportion, dtype: float64\n"
     ]
    }
   ],
   "source": [
    "print(datos_CAT['calefaccion'].value_counts(normalize=True))\n",
    "print(datos_CAT['consumo_calefacion'].value_counts(normalize=True))\n",
    "print(datos_CAT['desague'].value_counts(normalize=True))\n",
    "print(datos_CAT['vistas_lago'].value_counts(normalize=True))\n",
    "print(datos_CAT['nueva_construccion'].value_counts(normalize=True))\n",
    "print(datos_CAT['aire_acondicionado'].value_counts(normalize=True))"
   ]
  },
  {
   "cell_type": "markdown",
   "metadata": {},
   "source": [
    "# Mejorando la tabla "
   ]
  },
  {
   "cell_type": "code",
   "execution_count": 71,
   "metadata": {},
   "outputs": [
    {
     "name": "stdout",
     "output_type": "stream",
     "text": [
      "Tabla de Frecuencias - Sistema de Calefacción\n",
      "==================================================\n",
      "                 Frecuencia Porcentaje\n",
      "calefaccion                           \n",
      "hot air                1121     64.87%\n",
      "electric                305     17.65%\n",
      "hot water/steam         302     17.48%\n",
      "Total                  1728     100.0%\n"
     ]
    }
   ],
   "source": [
    "# Tabla de frecuencias para calefaccion\n",
    "# Frecuencias absolutas y relativas\n",
    "freq_calefaccion = datos_CAT['calefaccion'].value_counts()\n",
    "prop_calefaccion = datos_CAT['calefaccion'].value_counts(normalize=True)\n",
    "\n",
    "# Crear un DataFrame con ambas métricas\n",
    "tabla_calefaccion = pd.DataFrame({\n",
    "    'Frecuencia': freq_calefaccion,\n",
    "    'Porcentaje': prop_calefaccion * 100\n",
    "})\n",
    "\n",
    "# Añadir totales\n",
    "tabla_calefaccion.loc['Total'] = [tabla_calefaccion['Frecuencia'].sum(), 100]\n",
    "\n",
    "# Formatear el porcentaje\n",
    "tabla_calefaccion['Porcentaje'] = tabla_calefaccion['Porcentaje'].round(2).astype(str) + '%'\n",
    "\n",
    "print(\"Tabla de Frecuencias - Sistema de Calefacción\")\n",
    "print(\"=\"*50)\n",
    "print(tabla_calefaccion)"
   ]
  },
  {
   "cell_type": "markdown",
   "metadata": {},
   "source": [
    "# Guardando las tablas"
   ]
  },
  {
   "cell_type": "code",
   "execution_count": 72,
   "metadata": {},
   "outputs": [
    {
     "name": "stdout",
     "output_type": "stream",
     "text": [
      "Las tablas han sido guardadas en 'tablas_frecuencia.xlsx'\n"
     ]
    }
   ],
   "source": [
    "# # Instalar openpyxl si no lo tienes\n",
    "# !pip install openpyxl\n",
    "\n",
    "# Función para crear tablas de frecuencia\n",
    "def crear_tabla_frecuencia(datos, columna):\n",
    "   \"\"\"\n",
    "   Crea una tabla de frecuencias para una columna específica\n",
    "   \"\"\"\n",
    "   freq = datos[columna].value_counts()\n",
    "   prop = datos[columna].value_counts(normalize=True)\n",
    "   \n",
    "   tabla = pd.DataFrame({\n",
    "       'Frecuencia': freq,\n",
    "       'Porcentaje': prop * 100\n",
    "   })\n",
    "   \n",
    "   # Añadir totales\n",
    "   tabla.loc['Total'] = [tabla['Frecuencia'].sum(), 100]\n",
    "   \n",
    "   # Formatear el porcentaje\n",
    "   tabla['Porcentaje'] = tabla['Porcentaje'].round(2).astype(str) + '%'\n",
    "   \n",
    "   return tabla\n",
    "\n",
    "# Lista de columnas categóricas\n",
    "columnas_cat = ['calefaccion', 'consumo_calefacion', 'desague', \n",
    "               'vistas_lago', 'nueva_construccion', 'aire_acondicionado']\n",
    "\n",
    "# Crear y guardar las tablas en Excel\n",
    "with pd.ExcelWriter('C:/Users/charl/OneDrive/Documentos/Analítica Estratégica de Datos en la Konrad/Machine Learning Probabilistico/Desarrollos ML/EDA/Output/tablas_frecuencia.xlsx', engine='openpyxl') as writer:\n",
    "   # Crear y guardar cada tabla en una pestaña diferente\n",
    "   for columna in columnas_cat:\n",
    "       tabla = crear_tabla_frecuencia(datos_CAT, columna)\n",
    "       # Guardar en Excel con nombre de pestaña limpio\n",
    "       nombre_pestaña = columna[:31]  # Excel tiene límite de 31 caracteres\n",
    "       tabla.to_excel(writer, sheet_name=nombre_pestaña)\n",
    "\n",
    "print(\"Las tablas han sido guardadas en 'tablas_frecuencia.xlsx'\")\n"
   ]
  },
  {
   "cell_type": "markdown",
   "metadata": {},
   "source": [
    "# ***Tablas cruzadas***"
   ]
  },
  {
   "cell_type": "code",
   "execution_count": 75,
   "metadata": {},
   "outputs": [
    {
     "data": {
      "text/html": [
       "<div>\n",
       "<style scoped>\n",
       "    .dataframe tbody tr th:only-of-type {\n",
       "        vertical-align: middle;\n",
       "    }\n",
       "\n",
       "    .dataframe tbody tr th {\n",
       "        vertical-align: top;\n",
       "    }\n",
       "\n",
       "    .dataframe thead th {\n",
       "        text-align: right;\n",
       "    }\n",
       "</style>\n",
       "<table border=\"1\" class=\"dataframe\">\n",
       "  <thead>\n",
       "    <tr style=\"text-align: right;\">\n",
       "      <th>consumo_calefacion</th>\n",
       "      <th>electric</th>\n",
       "      <th>gas</th>\n",
       "      <th>oil</th>\n",
       "    </tr>\n",
       "    <tr>\n",
       "      <th>calefaccion</th>\n",
       "      <th></th>\n",
       "      <th></th>\n",
       "      <th></th>\n",
       "    </tr>\n",
       "  </thead>\n",
       "  <tbody>\n",
       "    <tr>\n",
       "      <th>electric</th>\n",
       "      <td>298</td>\n",
       "      <td>6</td>\n",
       "      <td>1</td>\n",
       "    </tr>\n",
       "    <tr>\n",
       "      <th>hot air</th>\n",
       "      <td>16</td>\n",
       "      <td>961</td>\n",
       "      <td>144</td>\n",
       "    </tr>\n",
       "    <tr>\n",
       "      <th>hot water/steam</th>\n",
       "      <td>1</td>\n",
       "      <td>230</td>\n",
       "      <td>71</td>\n",
       "    </tr>\n",
       "  </tbody>\n",
       "</table>\n",
       "</div>"
      ],
      "text/plain": [
       "consumo_calefacion  electric  gas  oil\n",
       "calefaccion                           \n",
       "electric                 298    6    1\n",
       "hot air                   16  961  144\n",
       "hot water/steam            1  230   71"
      ]
     },
     "execution_count": 75,
     "metadata": {},
     "output_type": "execute_result"
    }
   ],
   "source": [
    "# Cruce entre sistema de calefacción y tipo de combustible\n",
    "pd.crosstab(datos_CAT['calefaccion'], \n",
    "                      datos_CAT['consumo_calefacion'], \n",
    "                      margins=False)"
   ]
  },
  {
   "cell_type": "code",
   "execution_count": 76,
   "metadata": {},
   "outputs": [
    {
     "data": {
      "text/html": [
       "<div>\n",
       "<style scoped>\n",
       "    .dataframe tbody tr th:only-of-type {\n",
       "        vertical-align: middle;\n",
       "    }\n",
       "\n",
       "    .dataframe tbody tr th {\n",
       "        vertical-align: top;\n",
       "    }\n",
       "\n",
       "    .dataframe thead th {\n",
       "        text-align: right;\n",
       "    }\n",
       "</style>\n",
       "<table border=\"1\" class=\"dataframe\">\n",
       "  <thead>\n",
       "    <tr style=\"text-align: right;\">\n",
       "      <th>consumo_calefacion</th>\n",
       "      <th>electric</th>\n",
       "      <th>gas</th>\n",
       "      <th>oil</th>\n",
       "      <th>All</th>\n",
       "    </tr>\n",
       "    <tr>\n",
       "      <th>calefaccion</th>\n",
       "      <th></th>\n",
       "      <th></th>\n",
       "      <th></th>\n",
       "      <th></th>\n",
       "    </tr>\n",
       "  </thead>\n",
       "  <tbody>\n",
       "    <tr>\n",
       "      <th>electric</th>\n",
       "      <td>298</td>\n",
       "      <td>6</td>\n",
       "      <td>1</td>\n",
       "      <td>305</td>\n",
       "    </tr>\n",
       "    <tr>\n",
       "      <th>hot air</th>\n",
       "      <td>16</td>\n",
       "      <td>961</td>\n",
       "      <td>144</td>\n",
       "      <td>1121</td>\n",
       "    </tr>\n",
       "    <tr>\n",
       "      <th>hot water/steam</th>\n",
       "      <td>1</td>\n",
       "      <td>230</td>\n",
       "      <td>71</td>\n",
       "      <td>302</td>\n",
       "    </tr>\n",
       "    <tr>\n",
       "      <th>All</th>\n",
       "      <td>315</td>\n",
       "      <td>1197</td>\n",
       "      <td>216</td>\n",
       "      <td>1728</td>\n",
       "    </tr>\n",
       "  </tbody>\n",
       "</table>\n",
       "</div>"
      ],
      "text/plain": [
       "consumo_calefacion  electric   gas  oil   All\n",
       "calefaccion                                  \n",
       "electric                 298     6    1   305\n",
       "hot air                   16   961  144  1121\n",
       "hot water/steam            1   230   71   302\n",
       "All                      315  1197  216  1728"
      ]
     },
     "execution_count": 76,
     "metadata": {},
     "output_type": "execute_result"
    }
   ],
   "source": [
    "# Cruce entre sistema de calefacción y tipo de combustible\n",
    "pd.crosstab(datos_CAT['calefaccion'], \n",
    "                      datos_CAT['consumo_calefacion'], \n",
    "                      margins=True)"
   ]
  },
  {
   "cell_type": "code",
   "execution_count": 77,
   "metadata": {},
   "outputs": [
    {
     "data": {
      "text/html": [
       "<div>\n",
       "<style scoped>\n",
       "    .dataframe tbody tr th:only-of-type {\n",
       "        vertical-align: middle;\n",
       "    }\n",
       "\n",
       "    .dataframe tbody tr th {\n",
       "        vertical-align: top;\n",
       "    }\n",
       "\n",
       "    .dataframe thead th {\n",
       "        text-align: right;\n",
       "    }\n",
       "</style>\n",
       "<table border=\"1\" class=\"dataframe\">\n",
       "  <thead>\n",
       "    <tr style=\"text-align: right;\">\n",
       "      <th>nueva_construccion</th>\n",
       "      <th>No</th>\n",
       "      <th>Yes</th>\n",
       "      <th>All</th>\n",
       "    </tr>\n",
       "    <tr>\n",
       "      <th>aire_acondicionado</th>\n",
       "      <th></th>\n",
       "      <th></th>\n",
       "      <th></th>\n",
       "    </tr>\n",
       "  </thead>\n",
       "  <tbody>\n",
       "    <tr>\n",
       "      <th>No</th>\n",
       "      <td>1055</td>\n",
       "      <td>38</td>\n",
       "      <td>1093</td>\n",
       "    </tr>\n",
       "    <tr>\n",
       "      <th>Yes</th>\n",
       "      <td>592</td>\n",
       "      <td>43</td>\n",
       "      <td>635</td>\n",
       "    </tr>\n",
       "    <tr>\n",
       "      <th>All</th>\n",
       "      <td>1647</td>\n",
       "      <td>81</td>\n",
       "      <td>1728</td>\n",
       "    </tr>\n",
       "  </tbody>\n",
       "</table>\n",
       "</div>"
      ],
      "text/plain": [
       "nueva_construccion    No  Yes   All\n",
       "aire_acondicionado                 \n",
       "No                  1055   38  1093\n",
       "Yes                  592   43   635\n",
       "All                 1647   81  1728"
      ]
     },
     "execution_count": 77,
     "metadata": {},
     "output_type": "execute_result"
    }
   ],
   "source": [
    "# Cruce entre aire acondicionado y nueva construcción\n",
    "pd.crosstab(datos_CAT['aire_acondicionado'], \n",
    "            datos_CAT['nueva_construccion'], \n",
    "            margins=True)"
   ]
  },
  {
   "cell_type": "code",
   "execution_count": 78,
   "metadata": {},
   "outputs": [
    {
     "data": {
      "text/html": [
       "<div>\n",
       "<style scoped>\n",
       "    .dataframe tbody tr th:only-of-type {\n",
       "        vertical-align: middle;\n",
       "    }\n",
       "\n",
       "    .dataframe tbody tr th {\n",
       "        vertical-align: top;\n",
       "    }\n",
       "\n",
       "    .dataframe thead th {\n",
       "        text-align: right;\n",
       "    }\n",
       "</style>\n",
       "<table border=\"1\" class=\"dataframe\">\n",
       "  <thead>\n",
       "    <tr style=\"text-align: right;\">\n",
       "      <th>vistas_lago</th>\n",
       "      <th>No</th>\n",
       "      <th>Yes</th>\n",
       "      <th>All</th>\n",
       "    </tr>\n",
       "    <tr>\n",
       "      <th>desague</th>\n",
       "      <th></th>\n",
       "      <th></th>\n",
       "      <th></th>\n",
       "    </tr>\n",
       "  </thead>\n",
       "  <tbody>\n",
       "    <tr>\n",
       "      <th>none</th>\n",
       "      <td>12</td>\n",
       "      <td>0</td>\n",
       "      <td>12</td>\n",
       "    </tr>\n",
       "    <tr>\n",
       "      <th>public/commercial</th>\n",
       "      <td>1205</td>\n",
       "      <td>8</td>\n",
       "      <td>1213</td>\n",
       "    </tr>\n",
       "    <tr>\n",
       "      <th>septic</th>\n",
       "      <td>496</td>\n",
       "      <td>7</td>\n",
       "      <td>503</td>\n",
       "    </tr>\n",
       "    <tr>\n",
       "      <th>All</th>\n",
       "      <td>1713</td>\n",
       "      <td>15</td>\n",
       "      <td>1728</td>\n",
       "    </tr>\n",
       "  </tbody>\n",
       "</table>\n",
       "</div>"
      ],
      "text/plain": [
       "vistas_lago          No  Yes   All\n",
       "desague                           \n",
       "none                 12    0    12\n",
       "public/commercial  1205    8  1213\n",
       "septic              496    7   503\n",
       "All                1713   15  1728"
      ]
     },
     "execution_count": 78,
     "metadata": {},
     "output_type": "execute_result"
    }
   ],
   "source": [
    "# Cruce entre tipo de desagüe y vista al lago\n",
    "pd.crosstab(datos_CAT['desague'], \n",
    "            datos_CAT['vistas_lago'], \n",
    "            margins=True)"
   ]
  },
  {
   "cell_type": "code",
   "execution_count": 79,
   "metadata": {},
   "outputs": [
    {
     "name": "stdout",
     "output_type": "stream",
     "text": [
      "\n",
      "Tabla cruzada con porcentajes por fila\n",
      "==================================================\n",
      "consumo_calefacion  electric   gas   oil\n",
      "calefaccion                             \n",
      "electric                97.7   2.0   0.3\n",
      "hot air                  1.4  85.7  12.8\n",
      "hot water/steam          0.3  76.2  23.5\n",
      "All                     18.2  69.3  12.5\n"
     ]
    }
   ],
   "source": [
    "# Tabla cruzada con porcentajes por fila\n",
    "tabla_porcentajes = pd.crosstab(datos_CAT['calefaccion'], \n",
    "                               datos_CAT['consumo_calefacion'], \n",
    "                               normalize='index',\n",
    "                               margins=True).round(3) * 100\n",
    "\n",
    "print(\"\\nTabla cruzada con porcentajes por fila\")\n",
    "print(\"=\"*50)\n",
    "print(tabla_porcentajes)"
   ]
  },
  {
   "cell_type": "markdown",
   "metadata": {},
   "source": [
    "# Guardar Tablas Cruzadas"
   ]
  },
  {
   "cell_type": "code",
   "execution_count": 80,
   "metadata": {},
   "outputs": [
    {
     "name": "stdout",
     "output_type": "stream",
     "text": [
      "Tabla cruzada: Calefacción vs Combustible\n",
      "==================================================\n",
      "consumo_calefacion  electric   gas  oil   All\n",
      "calefaccion                                  \n",
      "electric                 298     6    1   305\n",
      "hot air                   16   961  144  1121\n",
      "hot water/steam            1   230   71   302\n",
      "All                      315  1197  216  1728\n"
     ]
    }
   ],
   "source": [
    "# Cruce entre sistema de calefacción y tipo de combustible\n",
    "tabla_1 = pd.crosstab(datos_CAT['calefaccion'], \n",
    "                      datos_CAT['consumo_calefacion'], \n",
    "                      margins=True)\n",
    "\n",
    "# Cruce entre aire acondicionado y nueva construcción\n",
    "tabla_2 = pd.crosstab(datos_CAT['aire_acondicionado'], \n",
    "                      datos_CAT['nueva_construccion'], \n",
    "                      margins=True)\n",
    "\n",
    "# Cruce entre tipo de desagüe y vista al lago\n",
    "tabla_3 = pd.crosstab(datos_CAT['desague'], \n",
    "                      datos_CAT['vistas_lago'], \n",
    "                      margins=True)\n",
    "\n",
    "# Guardar todas las tablas cruzadas en Excel\n",
    "with pd.ExcelWriter('C:/Users/charl/OneDrive/Documentos/Analítica Estratégica de Datos en la Konrad/Machine Learning Probabilistico/Desarrollos ML/EDA/Output/tablas_cruzadas.xlsx', engine='openpyxl') as writer:\n",
    "    tabla_1.to_excel(writer, sheet_name='calefaccion_combustible')\n",
    "    tabla_2.to_excel(writer, sheet_name='aire_nueva_const')\n",
    "    tabla_3.to_excel(writer, sheet_name='desague_lago')\n",
    "\n",
    "# Visualizar ejemplo\n",
    "print(\"Tabla cruzada: Calefacción vs Combustible\")\n",
    "print(\"=\"*50)\n",
    "print(tabla_1)"
   ]
  },
  {
   "cell_type": "markdown",
   "metadata": {},
   "source": [
    "# ***Gráficas de Barras***"
   ]
  },
  {
   "cell_type": "code",
   "execution_count": 81,
   "metadata": {},
   "outputs": [
    {
     "data": {
      "text/html": [
       "<div>\n",
       "<style scoped>\n",
       "    .dataframe tbody tr th:only-of-type {\n",
       "        vertical-align: middle;\n",
       "    }\n",
       "\n",
       "    .dataframe tbody tr th {\n",
       "        vertical-align: top;\n",
       "    }\n",
       "\n",
       "    .dataframe thead th {\n",
       "        text-align: right;\n",
       "    }\n",
       "</style>\n",
       "<table border=\"1\" class=\"dataframe\">\n",
       "  <thead>\n",
       "    <tr style=\"text-align: right;\">\n",
       "      <th></th>\n",
       "      <th>calefaccion</th>\n",
       "      <th>consumo_calefacion</th>\n",
       "      <th>desague</th>\n",
       "      <th>vistas_lago</th>\n",
       "      <th>nueva_construccion</th>\n",
       "      <th>aire_acondicionado</th>\n",
       "    </tr>\n",
       "  </thead>\n",
       "  <tbody>\n",
       "    <tr>\n",
       "      <th>0</th>\n",
       "      <td>electric</td>\n",
       "      <td>electric</td>\n",
       "      <td>septic</td>\n",
       "      <td>No</td>\n",
       "      <td>No</td>\n",
       "      <td>No</td>\n",
       "    </tr>\n",
       "    <tr>\n",
       "      <th>1</th>\n",
       "      <td>hot water/steam</td>\n",
       "      <td>gas</td>\n",
       "      <td>septic</td>\n",
       "      <td>No</td>\n",
       "      <td>No</td>\n",
       "      <td>No</td>\n",
       "    </tr>\n",
       "    <tr>\n",
       "      <th>2</th>\n",
       "      <td>hot water/steam</td>\n",
       "      <td>gas</td>\n",
       "      <td>public/commercial</td>\n",
       "      <td>No</td>\n",
       "      <td>No</td>\n",
       "      <td>No</td>\n",
       "    </tr>\n",
       "    <tr>\n",
       "      <th>3</th>\n",
       "      <td>hot air</td>\n",
       "      <td>gas</td>\n",
       "      <td>septic</td>\n",
       "      <td>No</td>\n",
       "      <td>No</td>\n",
       "      <td>No</td>\n",
       "    </tr>\n",
       "    <tr>\n",
       "      <th>4</th>\n",
       "      <td>hot air</td>\n",
       "      <td>gas</td>\n",
       "      <td>public/commercial</td>\n",
       "      <td>No</td>\n",
       "      <td>Yes</td>\n",
       "      <td>Yes</td>\n",
       "    </tr>\n",
       "    <tr>\n",
       "      <th>...</th>\n",
       "      <td>...</td>\n",
       "      <td>...</td>\n",
       "      <td>...</td>\n",
       "      <td>...</td>\n",
       "      <td>...</td>\n",
       "      <td>...</td>\n",
       "    </tr>\n",
       "    <tr>\n",
       "      <th>1723</th>\n",
       "      <td>hot water/steam</td>\n",
       "      <td>gas</td>\n",
       "      <td>public/commercial</td>\n",
       "      <td>No</td>\n",
       "      <td>No</td>\n",
       "      <td>No</td>\n",
       "    </tr>\n",
       "    <tr>\n",
       "      <th>1724</th>\n",
       "      <td>hot water/steam</td>\n",
       "      <td>gas</td>\n",
       "      <td>public/commercial</td>\n",
       "      <td>No</td>\n",
       "      <td>No</td>\n",
       "      <td>No</td>\n",
       "    </tr>\n",
       "    <tr>\n",
       "      <th>1725</th>\n",
       "      <td>hot air</td>\n",
       "      <td>gas</td>\n",
       "      <td>public/commercial</td>\n",
       "      <td>No</td>\n",
       "      <td>No</td>\n",
       "      <td>No</td>\n",
       "    </tr>\n",
       "    <tr>\n",
       "      <th>1726</th>\n",
       "      <td>hot air</td>\n",
       "      <td>gas</td>\n",
       "      <td>public/commercial</td>\n",
       "      <td>No</td>\n",
       "      <td>No</td>\n",
       "      <td>No</td>\n",
       "    </tr>\n",
       "    <tr>\n",
       "      <th>1727</th>\n",
       "      <td>hot air</td>\n",
       "      <td>gas</td>\n",
       "      <td>septic</td>\n",
       "      <td>No</td>\n",
       "      <td>No</td>\n",
       "      <td>No</td>\n",
       "    </tr>\n",
       "  </tbody>\n",
       "</table>\n",
       "<p>1728 rows × 6 columns</p>\n",
       "</div>"
      ],
      "text/plain": [
       "          calefaccion consumo_calefacion            desague vistas_lago  \\\n",
       "0            electric           electric             septic          No   \n",
       "1     hot water/steam                gas             septic          No   \n",
       "2     hot water/steam                gas  public/commercial          No   \n",
       "3             hot air                gas             septic          No   \n",
       "4             hot air                gas  public/commercial          No   \n",
       "...               ...                ...                ...         ...   \n",
       "1723  hot water/steam                gas  public/commercial          No   \n",
       "1724  hot water/steam                gas  public/commercial          No   \n",
       "1725          hot air                gas  public/commercial          No   \n",
       "1726          hot air                gas  public/commercial          No   \n",
       "1727          hot air                gas             septic          No   \n",
       "\n",
       "     nueva_construccion aire_acondicionado  \n",
       "0                    No                 No  \n",
       "1                    No                 No  \n",
       "2                    No                 No  \n",
       "3                    No                 No  \n",
       "4                   Yes                Yes  \n",
       "...                 ...                ...  \n",
       "1723                 No                 No  \n",
       "1724                 No                 No  \n",
       "1725                 No                 No  \n",
       "1726                 No                 No  \n",
       "1727                 No                 No  \n",
       "\n",
       "[1728 rows x 6 columns]"
      ]
     },
     "execution_count": 81,
     "metadata": {},
     "output_type": "execute_result"
    }
   ],
   "source": [
    "datos_CAT"
   ]
  },
  {
   "cell_type": "code",
   "execution_count": 82,
   "metadata": {},
   "outputs": [
    {
     "data": {
      "image/png": "[encoded data removed]",
      "text/plain": [
       "<Figure size 1000x600 with 1 Axes>"
      ]
     },
     "metadata": {},
     "output_type": "display_data"
    }
   ],
   "source": [
    "# Configuración básica de la visualización\n",
    "plt.figure(figsize=(10, 6))\n",
    "\n",
    "# 1. Gráfica de barras simple\n",
    "sns.countplot(data=datos_CAT, x='calefaccion')\n",
    "plt.title('Distribución de Sistemas de Calefacción')\n",
    "plt.xlabel('Tipo de Calefacción')\n",
    "plt.ylabel('Frecuencia')\n",
    "plt.xticks(rotation=45)  # Rotar etiquetas para mejor lectura\n",
    "plt.tight_layout()\n",
    "plt.show()"
   ]
  },
  {
   "cell_type": "code",
   "execution_count": 83,
   "metadata": {},
   "outputs": [
    {
     "data": {
      "image/png": "[encoded data removed]",
      "text/plain": [
       "<Figure size 1000x600 with 1 Axes>"
      ]
     },
     "metadata": {},
     "output_type": "display_data"
    }
   ],
   "source": [
    "# 2. Gráfica de barras con porcentajes\n",
    "# Calcular porcentajes\n",
    "porcentajes = (datos_CAT['calefaccion'].value_counts(normalize=True) * 100).round(2)\n",
    "\n",
    "plt.figure(figsize=(10, 6))\n",
    "porcentajes.plot(kind='bar')\n",
    "plt.title('Distribución Porcentual de Sistemas de Calefacción')\n",
    "plt.xlabel('Tipo de Calefacción')\n",
    "plt.ylabel('Porcentaje (%)')\n",
    "plt.xticks(rotation=45)\n",
    "plt.tight_layout()"
   ]
  },
  {
   "cell_type": "code",
   "execution_count": 84,
   "metadata": {},
   "outputs": [
    {
     "data": {
      "image/png": "[encoded data removed]",
      "text/plain": [
       "<Figure size 1200x600 with 1 Axes>"
      ]
     },
     "metadata": {},
     "output_type": "display_data"
    }
   ],
   "source": [
    "# Crear una gráfica de barras mejorada\n",
    "plt.figure(figsize=(12, 6))\n",
    "\n",
    "# Calcular porcentajes\n",
    "porcentajes = (datos_CAT['calefaccion'].value_counts(normalize=True) * 100).round(2)\n",
    "\n",
    "# Crear la gráfica con un estilo más atractivo\n",
    "ax = porcentajes.plot(\n",
    "   kind='bar',\n",
    "   color='skyblue',  # Color base de las barras\n",
    "   edgecolor='navy',  # Color del borde de las barras\n",
    "   width=0.7,  # Ancho de las barras\n",
    "   alpha=0.8   # Transparencia\n",
    ")\n",
    "\n",
    "# Personalizar el título y etiquetas\n",
    "plt.title('Distribución Porcentual de Sistemas de Calefacción', \n",
    "         fontsize=14, \n",
    "         pad=20,\n",
    "         fontweight='bold')\n",
    "plt.xlabel('Tipo de Calefacción', fontsize=12)\n",
    "plt.ylabel('Porcentaje (%)', fontsize=12)\n",
    "\n",
    "# Añadir una cuadrícula suave de fondo\n",
    "plt.grid(True, axis='y', linestyle='--', alpha=0.3)\n",
    "\n",
    "# Ajustar el rango del eje y para dejar espacio para las etiquetas\n",
    "plt.ylim(0, max(porcentajes) * 1.15)\n",
    "\n",
    "# Rotar y ajustar las etiquetas del eje x\n",
    "plt.xticks(rotation=45, ha='right')\n",
    "\n",
    "# Añadir etiquetas de porcentaje sobre las barras\n",
    "for i, v in enumerate(porcentajes):\n",
    "   ax.text(i, v + 0.5, f'{v}%', \n",
    "           ha='center',\n",
    "           va='bottom',\n",
    "           fontsize=10,\n",
    "           fontweight='bold')\n",
    "\n",
    "# Remover los bordes del gráfico\n",
    "ax.spines['top'].set_visible(False)\n",
    "ax.spines['right'].set_visible(False)\n",
    "\n",
    "# Ajustar los márgenes\n",
    "plt.tight_layout()\n",
    "\n",
    "plt.show()"
   ]
  },
  {
   "cell_type": "code",
   "execution_count": 87,
   "metadata": {},
   "outputs": [
    {
     "data": {
      "image/png": "[encoded data removed]",
      "text/plain": [
       "<Figure size 1500x800 with 6 Axes>"
      ]
     },
     "metadata": {},
     "output_type": "display_data"
    }
   ],
   "source": [
    "# Crear gráficas para todas las variables categóricas\n",
    "# ==============================================================================\n",
    "fig, axes = plt.subplots(nrows=2, ncols=3, figsize=(15, 8))\n",
    "axes = axes.flat\n",
    "\n",
    "# Obtener columnas categóricas de datos_CAT\n",
    "columnas_cat = datos_CAT.columns\n",
    "\n",
    "for i, columna in enumerate(columnas_cat):\n",
    "   # Calcular frecuencias absolutas y porcentajes\n",
    "   frecuencias = datos_CAT[columna].value_counts()\n",
    "   porcentajes = (frecuencias / len(datos_CAT) * 100).round(2)\n",
    "   \n",
    "   # Crear gráfica de barras horizontales con frecuencias absolutas\n",
    "   frecuencias.plot.barh(\n",
    "       ax=axes[i],\n",
    "       color='skyblue',\n",
    "       edgecolor='navy',\n",
    "       alpha=0.8\n",
    "   )\n",
    "   \n",
    "   # Personalizar cada subplot\n",
    "   axes[i].set_title(columna.replace('_', ' ').title(), \n",
    "                    fontsize=10, \n",
    "                    fontweight=\"bold\",\n",
    "                    pad=10)\n",
    "   axes[i].tick_params(labelsize=8)\n",
    "   axes[i].set_xlabel(\"Frecuencia\", fontsize=8)\n",
    "   axes[i].grid(True, linestyle='--', alpha=0.3)\n",
    "   \n",
    "   # Añadir etiquetas de porcentaje\n",
    "   for j, (freq, pct) in enumerate(zip(frecuencias, porcentajes)):\n",
    "       axes[i].text(freq + 0.5, j, f'{pct}%',\n",
    "                   va='center',\n",
    "                   fontsize=8,\n",
    "                   fontweight='bold')\n",
    "\n",
    "# Ajustar diseño\n",
    "plt.tight_layout()\n",
    "\n",
    "# Añadir título general\n",
    "plt.suptitle('Distribución de Variables Categóricas',\n",
    "            fontsize=14,\n",
    "            fontweight=\"bold\",\n",
    "            y=1.05)\n",
    "\n",
    "# Guardar la figura\n",
    "plt.savefig('C:/Users/charl/OneDrive/Documentos/Analítica Estratégica de Datos en la Konrad/Machine Learning Probabilistico/Desarrollos ML/EDA/Output/distribucion_categoricas.png', \n",
    "            dpi=300,             # Alta resolución\n",
    "            bbox_inches='tight', # Ajuste automático de márgenes\n",
    "            pad_inches=0.5)      # Espacio alrededor de la figura\n",
    "\n",
    "\n",
    "plt.show()"
   ]
  },
  {
   "cell_type": "code",
   "execution_count": 86,
   "metadata": {},
   "outputs": [
    {
     "data": {
      "text/plain": [
       "<Figure size 640x480 with 0 Axes>"
      ]
     },
     "metadata": {},
     "output_type": "display_data"
    }
   ],
   "source": []
  },
  {
   "cell_type": "code",
   "execution_count": null,
   "metadata": {},
   "outputs": [],
   "source": []
  },
  {
   "cell_type": "markdown",
   "metadata": {},
   "source": [
    "# Gráfica circular"
   ]
  },
  {
   "cell_type": "code",
   "execution_count": 88,
   "metadata": {},
   "outputs": [
    {
     "data": {
      "image/png": "[encoded data removed]",
      "text/plain": [
       "<Figure size 1500x1000 with 6 Axes>"
      ]
     },
     "metadata": {},
     "output_type": "display_data"
    }
   ],
   "source": [
    "# Crear gráficas de torta para todas las variables categóricas\n",
    "# ==============================================================================\n",
    "fig, axes = plt.subplots(nrows=2, ncols=3, figsize=(15, 10))\n",
    "axes = axes.flat\n",
    "\n",
    "# Obtener columnas categóricas de datos_CAT\n",
    "columnas_cat = datos_CAT.columns\n",
    "\n",
    "for i, columna in enumerate(columnas_cat):\n",
    "    # Calcular frecuencias y porcentajes\n",
    "    frecuencias = datos_CAT[columna].value_counts()\n",
    "    porcentajes = (frecuencias / len(datos_CAT) * 100).round(2)\n",
    "    \n",
    "    # Crear gráfica de torta\n",
    "    axes[i].pie(porcentajes, \n",
    "                labels=[f'{label}\\n({value}, {pct}%)' \n",
    "                       for label, value, pct in zip(frecuencias.index, frecuencias, porcentajes)],\n",
    "                autopct='',  # No mostrar porcentajes en el centro (ya están en las etiquetas)\n",
    "                startangle=90,\n",
    "                shadow=True,\n",
    "                colors=plt.cm.Set3(np.linspace(0, 1, len(frecuencias))))\n",
    "    \n",
    "    # Personalizar cada subplot\n",
    "    axes[i].set_title(columna.replace('_', ' ').title(), \n",
    "                     fontsize=10, \n",
    "                     fontweight=\"bold\",\n",
    "                     pad=10)\n",
    "    \n",
    "    # Hacer el gráfico circular\n",
    "    axes[i].axis('equal')\n",
    "\n",
    "# Ajustar diseño\n",
    "plt.tight_layout()\n",
    "\n",
    "# Añadir título general\n",
    "plt.suptitle('Distribución de Variables Categóricas',\n",
    "            fontsize=14,\n",
    "            fontweight=\"bold\",\n",
    "            y=1.02)\n",
    "\n",
    "# Guardar la figura\n",
    "plt.savefig('C:/Users/charl/OneDrive/Documentos/Analítica Estratégica de Datos en la Konrad/Machine Learning Probabilistico/Desarrollos ML/EDA/Output/distribucion_categoricas_pie.png', \n",
    "            dpi=300, \n",
    "            bbox_inches='tight',\n",
    "            pad_inches=0.5)\n",
    "\n",
    "plt.show()"
   ]
  },
  {
   "cell_type": "markdown",
   "metadata": {},
   "source": [
    "# Generando reportes "
   ]
  },
  {
   "cell_type": "code",
   "execution_count": 28,
   "metadata": {},
   "outputs": [],
   "source": [
    "# # Primero, desinstalar la versión anterior si existe\n",
    "# !pip uninstall pandas-profiling -y\n",
    "\n",
    "# # Instalar la nueva versión\n",
    "# !pip install ydata-profiling"
   ]
  },
  {
   "cell_type": "code",
   "execution_count": 89,
   "metadata": {},
   "outputs": [
    {
     "name": "stderr",
     "output_type": "stream",
     "text": [
      "Summarize dataset: 100%|██████████| 15/15 [00:00<00:00, 28.18it/s, Completed]                          \n",
      "Generate report structure: 100%|██████████| 1/1 [00:00<00:00,  1.21it/s]\n",
      "Render HTML: 100%|██████████| 1/1 [00:00<00:00,  5.76it/s]\n",
      "Export report to file: 100%|██████████| 1/1 [00:00<00:00, 295.69it/s]\n"
     ]
    }
   ],
   "source": [
    "# Uso\n",
    "from pandas_profiling import ProfileReport\n",
    "profile = ProfileReport(datos_CAT, title=\"Reporte de Análisis Exploratorio\")\n",
    "profile.to_file(\"../Output/reporte_eda.html\")"
   ]
  },
  {
   "cell_type": "markdown",
   "metadata": {},
   "source": [
    "# Otro reporte"
   ]
  },
  {
   "cell_type": "code",
   "execution_count": 30,
   "metadata": {},
   "outputs": [],
   "source": [
    "# # Instalar Sweetviz\n",
    "# !pip install sweetviz"
   ]
  },
  {
   "cell_type": "code",
   "execution_count": 90,
   "metadata": {},
   "outputs": [
    {
     "name": "stderr",
     "output_type": "stream",
     "text": [
      "Done! Use 'show' commands to display/save.   |██████████| [100%]   00:00 -> (00:00 left)\n"
     ]
    },
    {
     "name": "stdout",
     "output_type": "stream",
     "text": [
      "Report ../Output/reporte_sweetviz.html was generated! NOTEBOOK/COLAB USERS: the web browser MAY not pop up, regardless, the report IS saved in your notebook/colab files.\n"
     ]
    }
   ],
   "source": [
    "\n",
    "\n",
    "# Usar Sweetviz\n",
    "import sweetviz as sv\n",
    "report = sv.analyze(datos_CAT)\n",
    "report.show_html(\"../Output/reporte_sweetviz.html\")"
   ]
  },
  {
   "cell_type": "markdown",
   "metadata": {},
   "source": [
    "# ***Conclusiones***"
   ]
  },
  {
   "cell_type": "markdown",
   "metadata": {},
   "source": [
    "# Análisis de Variables Categóricas en Dataset SaratogaHouses\n",
    "\n",
    "## Identificación de Desbalances en Variables\n",
    "\n",
    "### Desbalances Extremos\n",
    "Estas variables podrían ser problemáticas al implementar one-hot encoding:\n",
    "\n",
    "1. **Vistas_Lago**\n",
    "  - No: 99.13%\n",
    "  - Yes: 0.87%\n",
    "  - *Observación*: Extremadamente desbalanceada\n",
    "\n",
    "2. **Nueva_Construccion**\n",
    "  - No: 95.31%\n",
    "  - Yes: 4.69%\n",
    "  - *Observación*: Muy desbalanceada\n",
    "\n",
    "### Desbalances Moderados\n",
    "Variables con distribución manejable:\n",
    "\n",
    "1. **Aire_Acondicionado**\n",
    "  - No: 63.25%\n",
    "  - Yes: 36.75%\n",
    "\n",
    "2. **Sistema de Desague**\n",
    "  - Public/Commercial: 70.2%\n",
    "  - Septic: 29.11%\n",
    "  - None: 0.69%\n",
    "\n",
    "### Variables más Balanceadas\n",
    "Variables con distribución más equilibrada:\n",
    "\n",
    "1. **Calefaccion**\n",
    "  - Hot air: 64.87%\n",
    "  - Electric: 17.65%\n",
    "  - Hot water/steam: 17.48%\n",
    "\n",
    "2. **Consumo_Calefacion**\n",
    "  - Gas: 69.27%\n",
    "  - Electric: 18.23%\n",
    "  - Oil: 12.5%\n",
    "\n",
    "## Implicaciones para el Modelado\n",
    "\n",
    "### Problemas Potenciales\n",
    "- Columnas con muchos ceros y pocos unos\n",
    "- Baja capacidad discriminativa\n",
    "- Posible multicolinealidad\n",
    "\n",
    "### Recomendaciones\n",
    "\n",
    "1. **Para Variables Extremadamente Desbalanceadas**\n",
    "  - Considerar eliminación\n",
    "  - Aplicar técnicas de balanceo\n",
    "  - Evaluar combinación con otras variables\n",
    "\n",
    "2. **Para Variables Multiclase**\n",
    "  - Mantener variables con distribución informativa\n",
    "  - Evaluar agrupación de categorías menos frecuentes\n",
    "\n",
    "3. **Consideraciones para One-Hot Encoding**\n",
    "  - Evaluar impacto en dimensionalidad\n",
    "  - Considerar técnicas alternativas de encoding\n",
    "  - Monitorear efectos en el rendimiento del modelo\n",
    "\n",
    "## Conclusión\n",
    "El análisis sugiere la necesidad de un tratamiento especial para variables categóricas antes de su inclusión en el modelo, especialmente aquellas con desbalances extremos."
   ]
  },
  {
   "cell_type": "markdown",
   "metadata": {},
   "source": [
    "# **Selección de Variables Categóricas para el Modelo**\n",
    "\n",
    "## Variables Recomendadas para Incluir\n",
    "\n",
    "1. **Aire_Acondicionado**\n",
    "   - *Razón*: Distribución relativamente balanceada (63.25% vs 36.75%)\n",
    "   - *Relevancia*: Factor importante en el valor de una propiedad\n",
    "   - *Tratamiento*: Puede usarse directamente con one-hot encoding\n",
    "\n",
    "2. **Sistema de Desague (sin la categoría 'none')**\n",
    "   - *Razón*: Distribución aceptable entre las categorías principales\n",
    "   - *Relevancia*: Infraestructura crítica que afecta el valor\n",
    "   - *Tratamiento*: Eliminar o reclasificar la categoría 'none' (0.69%)\n",
    "\n",
    "3. **Calefaccion**\n",
    "   - *Razón*: Distribución relativamente equilibrada entre categorías\n",
    "   - *Relevancia*: Sistema esencial en la vivienda\n",
    "   - *Tratamiento*: Mantener todas las categorías\n",
    "\n",
    "4. **Consumo_Calefacion**\n",
    "   - *Razón*: Distribución informativa entre categorías\n",
    "   - *Relevancia*: Impacto en costos operativos\n",
    "   - *Tratamiento*: Usar directamente\n",
    "\n",
    "## Variables No Recomendadas\n",
    "\n",
    "1. **Vistas_Lago**\n",
    "   - *Razón*: Desbalance extremo (99.13% vs 0.87%)\n",
    "   - *Recomendación*: Excluir del modelo inicial\n",
    "\n",
    "2. **Nueva_Construccion**\n",
    "   - *Razón*: Desbalance muy alto (95.31% vs 4.69%)\n",
    "   - *Recomendación*: Excluir del modelo inicial\n",
    "\n",
    "## Justificación\n",
    "- Las variables seleccionadas tienen suficiente variabilidad para ser informativas\n",
    "- Evitamos variables que podrían introducir ruido por desbalance extremo\n",
    "- Mantenemos variables que lógicamente influyen en el precio de una vivienda"
   ]
  },
  {
   "cell_type": "markdown",
   "metadata": {},
   "source": [
    "# **Exportar Variables Selccionadas**"
   ]
  },
  {
   "cell_type": "code",
   "execution_count": 91,
   "metadata": {},
   "outputs": [
    {
     "name": "stdout",
     "output_type": "stream",
     "text": [
      "Dimensiones del nuevo DataFrame: (1728, 4)\n",
      "\n",
      "Primeras filas del DataFrame:\n",
      "  aire_acondicionado            desague      calefaccion consumo_calefacion\n",
      "0                 No             septic         electric           electric\n",
      "1                 No             septic  hot water/steam                gas\n",
      "2                 No  public/commercial  hot water/steam                gas\n",
      "3                 No             septic          hot air                gas\n",
      "4                Yes  public/commercial          hot air                gas\n"
     ]
    }
   ],
   "source": [
    "# Seleccionar solo las variables recomendadas\n",
    "variables_seleccionadas = ['aire_acondicionado', 'desague', 'calefaccion', 'consumo_calefacion']\n",
    "\n",
    "# Crear nuevo DataFrame con las variables seleccionadas\n",
    "datos_CAT_seleccionados = datos_CAT[variables_seleccionadas].copy()\n",
    "\n",
    "# Verificar el nuevo DataFrame\n",
    "print(\"Dimensiones del nuevo DataFrame:\", datos_CAT_seleccionados.shape)\n",
    "print(\"\\nPrimeras filas del DataFrame:\")\n",
    "print(datos_CAT_seleccionados.head())\n",
    "\n",
    "# Exportar a Excel\n",
    "datos_CAT_seleccionados.to_excel('../Output/variables_categoricas_seleccionadas.xlsx', \n",
    "                                sheet_name='Variables_Seleccionadas',\n",
    "                                index=False)\n",
    "\n",
    "# # Exportar a CSV\n",
    "# datos_CAT_seleccionados.to_csv('../Output/variables_categoricas_seleccionadas.csv',\n",
    "#                               index=True)"
   ]
  },
  {
   "cell_type": "code",
   "execution_count": 92,
   "metadata": {},
   "outputs": [
    {
     "name": "stdout",
     "output_type": "stream",
     "text": [
      "-----\n",
      "matplotlib          3.10.0\n",
      "numpy               1.26.4\n",
      "pandas              2.1.4\n",
      "seaborn             0.13.2\n",
      "session_info        1.0.0\n",
      "statsmodels         0.14.4\n",
      "sweetviz            2.3.1\n",
      "tabulate            0.9.0\n",
      "ydata_profiling     v4.12.2\n",
      "-----\n",
      "IPython             8.29.0\n",
      "jupyter_client      8.6.3\n",
      "jupyter_core        5.7.2\n",
      "-----\n",
      "Python 3.11.0 (main, Oct 24 2022, 18:26:48) [MSC v.1933 64 bit (AMD64)]\n",
      "Windows-10-10.0.22631-SP0\n",
      "-----\n",
      "Session information updated at 2025-02-08 10:24\n"
     ]
    }
   ],
   "source": [
    "import session_info\n",
    "session_info.show(html=False)"
   ]
  }
 ],
 "metadata": {
  "kernelspec": {
   "display_name": "Python 3",
   "language": "python",
   "name": "python3"
  },
  "language_info": {
   "codemirror_mode": {
    "name": "ipython",
    "version": 3
   },
   "file_extension": ".py",
   "mimetype": "text/x-python",
   "name": "python",
   "nbconvert_exporter": "python",
   "pygments_lexer": "ipython3",
   "version": "3.11.0"
  }
 },
 "nbformat": 4,
 "nbformat_minor": 2
}
